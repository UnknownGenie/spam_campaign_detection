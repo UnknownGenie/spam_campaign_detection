{
 "cells": [
  {
   "cell_type": "code",
   "execution_count": 1,
   "metadata": {
    "id": "xxtloCiO1jOX",
    "colab_type": "code",
    "colab": {
     "base_uri": "https://localhost:8080/",
     "height": 122.0
    },
    "executionInfo": {
     "status": "ok",
     "timestamp": 1.593103666605E12,
     "user_tz": -300.0,
     "elapsed": 35142.0,
     "user": {
      "displayName": "Muhammad Faheem",
      "photoUrl": "",
      "userId": "16494978489697363550"
     }
    },
    "outputId": "7719938e-7094-49c0-c25f-f5aed37bcf2d"
   },
   "outputs": [
    {
     "name": "stdout",
     "output_type": "stream",
     "text": [
      "Go to this URL in a browser: https://accounts.google.com/o/oauth2/auth?client_id=947318989803-6bn6qk8qdgf4n4g3pfee6491hc0brc4i.apps.googleusercontent.com&redirect_uri=urn%3aietf%3awg%3aoauth%3a2.0%3aoob&response_type=code&scope=email%20https%3a%2f%2fwww.googleapis.com%2fauth%2fdocs.test%20https%3a%2f%2fwww.googleapis.com%2fauth%2fdrive%20https%3a%2f%2fwww.googleapis.com%2fauth%2fdrive.photos.readonly%20https%3a%2f%2fwww.googleapis.com%2fauth%2fpeopleapi.readonly\n",
      "\n",
      "Enter your authorization code:\n",
      "··········\n",
      "Mounted at /content/drive\n"
     ]
    }
   ],
   "source": [
    "from google.colab import drive\n",
    "drive.mount('/content/drive')"
   ]
  },
  {
   "cell_type": "code",
   "execution_count": 2,
   "metadata": {
    "colab_type": "code",
    "id": "ZZi0QhMMprG0",
    "colab": {},
    "executionInfo": {
     "status": "ok",
     "timestamp": 1.593103670883E12,
     "user_tz": -300.0,
     "elapsed": 4216.0,
     "user": {
      "displayName": "Muhammad Faheem",
      "photoUrl": "",
      "userId": "16494978489697363550"
     }
    }
   },
   "outputs": [],
   "source": [
    "import sys\n",
    "sys.path.append('/content/drive/My Drive/Freelancer/Spam Campaign Detection')"
   ]
  },
  {
   "cell_type": "code",
   "execution_count": 4,
   "metadata": {
    "colab_type": "code",
    "id": "5vE4ZywmPeN4",
    "colab": {},
    "executionInfo": {
     "status": "ok",
     "timestamp": 1.593103691174E12,
     "user_tz": -300.0,
     "elapsed": 2388.0,
     "user": {
      "displayName": "Muhammad Faheem",
      "photoUrl": "",
      "userId": "16494978489697363550"
     }
    }
   },
   "outputs": [],
   "source": [
    "import json\n",
    "import os\n",
    "import csv\n",
    "import re\n",
    "import pandas as pd\n",
    "import numpy as np\n",
    "import glob\n",
    "from urllib.parse import urlparse\n",
    "import requests\n",
    "from collections import defaultdict, namedtuple\n",
    "from Tree.node import FPNode\n",
    "from Tree.tree import FPTree"
   ]
  },
  {
   "cell_type": "code",
   "execution_count": 5,
   "metadata": {
    "colab_type": "code",
    "id": "_z7EnF63PeIJ",
    "colab": {},
    "executionInfo": {
     "status": "ok",
     "timestamp": 1.593103691817E12,
     "user_tz": -300.0,
     "elapsed": 2766.0,
     "user": {
      "displayName": "Muhammad Faheem",
      "photoUrl": "",
      "userId": "16494978489697363550"
     }
    }
   },
   "outputs": [],
   "source": [
    "def parse(path=\"C:/Users/aniru/Downloads/fraudulentDataset/dhruval\"):\n",
    "    full_data=[]\n",
    "    tid=0\n",
    "    all_files = os.listdir(path)\n",
    "    \n",
    "    features = ['readability', 'emailLayoutHtml', 'emailLayoutText', \n",
    "                'embeddedURLs', 'originDomain', 'originSourceIP', \n",
    "                'language', 'originEmailAddress', 'originName', \n",
    "                'subject', 'originDate', 'attachments']\n",
    "    \n",
    "    for file in all_files:\n",
    "        if file.endswith(\"eml\"):\n",
    "            continue\n",
    "        data=[]\n",
    "        file_path = os.path.join(path, file)\n",
    "        with open(file_path, 'r', encoding='utf8') as f:\n",
    "            json_dict = json.load(f)\n",
    "        for feature in features:\n",
    "            \n",
    "            if feature == 'readability':\n",
    "                temp = json_dict.get(feature, \"None\")\n",
    "                if isinstance(temp, dict):\n",
    "                    content = temp.get('contentType', \"None\")\n",
    "                    charset = temp.get('charset', \"None\")\n",
    "                    data += [\"{}:content\".format(content),\n",
    "                             \"{}:char\".format(charset)] \n",
    "                else:\n",
    "                    data += [\"{}:content\".format(\"None\"),\n",
    "                             \"{}:char\".format(\"None\")]\n",
    "                continue\n",
    "            \n",
    "            if feature == 'embeddedURLs':\n",
    "                urls = json_dict.get(feature, \"None\")\n",
    "                if isinstance(urls, list):\n",
    "                    for item in urls:\n",
    "                        tokens =urlparse(item['url'])\n",
    "                        data+=['{}:url_netloc'.format(tokens.netloc)]\n",
    "                        if tokens.path and not tokens.path == '/' :\n",
    "                            data+=['{}:url_path'.format(tokens.path)]\n",
    "                        if tokens.params:\n",
    "                            data+=['{}:url_params'.format(tokens.params)]\n",
    "                else:\n",
    "                    data += ['None:url_netloc',\n",
    "                             'None:url_path',\n",
    "                             'None:url_params']\n",
    "                continue\n",
    "            \n",
    "            # if feature == 'top10simpleWord':\n",
    "            #     words = json_dict.get(feature, \"None\")\n",
    "            #     if not isinstance(words,dict):\n",
    "            #         for item in words.keys():\n",
    "            #             data += ['{}:word'.format(item)]\n",
    "            #     else:\n",
    "            #         data += [\"None:word\"]\n",
    "            #     continue\n",
    "\n",
    "            if feature == 'attachments':\n",
    "                attached = json_dict.get(feature, \"None\")\n",
    "                if not isinstance(attached, list):\n",
    "                    for attachment in attached:\n",
    "                        filename = attachment.get('fileName', \"None\")\n",
    "                        data+=['{}:attachment'.format(filename)]\n",
    "                else:\n",
    "                    data+= ['None:attachment']\n",
    "                continue\n",
    "            # All other features are handled there other than mentioned and checked above\n",
    "            val = json_dict.get(feature, \"None\")\n",
    "            data += [\"{}:{}\".format(val, feature)]\n",
    "        tid+=1\n",
    "        data+=[str(tid)+':id']\n",
    "        full_data.append(data)      \n",
    "        \n",
    "    return full_data"
   ]
  },
  {
   "cell_type": "markdown",
   "metadata": {
    "colab_type": "text",
    "id": "o2Cd0SQ12Ozn"
   },
   "source": [
    "# New Section"
   ]
  },
  {
   "cell_type": "code",
   "execution_count": 6,
   "metadata": {
    "colab_type": "code",
    "id": "rSQVh64sprHD",
    "colab": {},
    "executionInfo": {
     "status": "ok",
     "timestamp": 1.593103693119E12,
     "user_tz": -300.0,
     "elapsed": 2795.0,
     "user": {
      "displayName": "Muhammad Faheem",
      "photoUrl": "",
      "userId": "16494978489697363550"
     }
    }
   },
   "outputs": [],
   "source": [
    "def defdict(dicts):\n",
    "    return defaultdict(lambda: 0, dicts)\n",
    "\n",
    "def find_frequent_itemsets(transactions, minimum_support, params, include_support=True):\n",
    "    \"\"\"\n",
    "    Find frequent itemsets in the given transactions using FP-growth. This\n",
    "    function returns a generator instead of an eagerly-populated list of items.\n",
    "    The `transactions` parameter can be any iterable of iterables of items.\n",
    "    `minimum_support` should be an integer specifying the minimum number of\n",
    "    occurrences of an itemset for it to be accepted.\n",
    "    Each item must be hashable (i.e., it must be valid as a member of a\n",
    "    dictionary or a set).\n",
    "    If `include_support` is true, yield (itemset, support) pairs instead of\n",
    "    just the itemsets.\n",
    "    \"\"\"\n",
    "    if 0 < minimum_support <= 1:\n",
    "        minimum_support = minimum_support * len(transactions)\n",
    "    \n",
    "    onflytran=transactions[len(transactions)//2:]\n",
    "    transactions=transactions[:len(transactions)//2]\n",
    "    items = defaultdict(lambda: 0)  # mapping from items to their supports\n",
    "\n",
    "    # if using support rate instead of support count\n",
    "    \n",
    "\n",
    "    # Load the passed-in transactions and count the support that individual\n",
    "    # items have.\n",
    "    for transaction in transactions:\n",
    "        for item in transaction:\n",
    "            items[item] += 1\n",
    "    \n",
    "\n",
    "    \n",
    "    # items = dict(\n",
    "    #     (item, support) for item, support in items.items() if support >= minimum_support\n",
    "    # )\n",
    "    # Remove infrequent items from the item support dictionary and\n",
    "    #sorts the dictionary  according to value\n",
    "    items= defdict({k: v for k, v in \n",
    "                   sorted(items.items(), \n",
    "                          key=lambda item: item[1], \n",
    "                          reverse=True) \\\n",
    "                   if v >= minimum_support or \\\n",
    "                   k.split(\":\")[1] == 'id'or \\\n",
    "                   k.split(\":\")[1] == 'content'})\n",
    "    # Build our FP-tree. Before any transactions can be added to the tree, they\n",
    "    # must be stripped of infrequent items and their surviving items must be\n",
    "    # sorted in decreasing order of frequency.\n",
    "    \n",
    "    master = FPTree(items)\n",
    "    print(master.inspect())\n",
    "    master.add(transactions,on_fly = False)\n",
    "    # Tree is built\n",
    "\n",
    "    # while True:\n",
    "    #     if is_new_transcation:\n",
    "    #         master.add(onflytran, on_fly = True)\n",
    "\n",
    "    #         # On fly method:\n",
    "    #         append to header_table\n",
    "    #         resort it\n",
    "    #         key: value   difference key: value \n",
    "    # print(master.inspect())\n",
    "    return master.getcampaign(params)"
   ]
  },
  {
   "cell_type": "code",
   "execution_count": 7,
   "metadata": {
    "colab_type": "code",
    "id": "LOlWIf0m3S8e",
    "colab": {},
    "executionInfo": {
     "status": "ok",
     "timestamp": 1.593103707957E12,
     "user_tz": -300.0,
     "elapsed": 12589.0,
     "user": {
      "displayName": "Muhammad Faheem",
      "photoUrl": "",
      "userId": "16494978489697363550"
     }
    }
   },
   "outputs": [],
   "source": [
    "dataset = parse(\"/content/drive/My Drive/Freelancer/Spam Campaign Detection/dhruval/\")\n",
    "dataet = dataset * 10"
   ]
  },
  {
   "cell_type": "code",
   "execution_count": 9,
   "metadata": {
    "id": "1-5CU8a5YTyp",
    "colab_type": "code",
    "colab": {
     "base_uri": "https://localhost:8080/",
     "height": 34.0
    },
    "executionInfo": {
     "status": "ok",
     "timestamp": 1.593105081799E12,
     "user_tz": -300.0,
     "elapsed": 1451.0,
     "user": {
      "displayName": "Muhammad Faheem",
      "photoUrl": "",
      "userId": "16494978489697363550"
     }
    },
    "outputId": "c42b7f94-2c17-4524-9ad4-74deb75ef92c"
   },
   "outputs": [
    {
     "data": {
      "text/plain": [
       "16"
      ]
     },
     "execution_count": 9,
     "metadata": {
      "tags": []
     },
     "output_type": "execute_result"
    }
   ],
   "source": [
    "len(dataset)"
   ]
  },
  {
   "cell_type": "code",
   "execution_count": 15,
   "metadata": {
    "id": "W4rgL4rMdnpn",
    "colab_type": "code",
    "colab": {},
    "executionInfo": {
     "status": "ok",
     "timestamp": 1.593105156979E12,
     "user_tz": -300.0,
     "elapsed": 1611.0,
     "user": {
      "displayName": "Muhammad Faheem",
      "photoUrl": "",
      "userId": "16494978489697363550"
     }
    }
   },
   "outputs": [],
   "source": [
    "dataset = dataset * 10"
   ]
  },
  {
   "cell_type": "code",
   "execution_count": 16,
   "metadata": {
    "colab_type": "code",
    "id": "LZXq8hxnprH6",
    "scrolled": true,
    "colab": {
     "base_uri": "https://localhost:8080/",
     "height": 289.0
    },
    "executionInfo": {
     "status": "ok",
     "timestamp": 1.593105157666E12,
     "user_tz": -300.0,
     "elapsed": 1749.0,
     "user": {
      "displayName": "Muhammad Faheem",
      "photoUrl": "",
      "userId": "16494978489697363550"
     }
    },
    "outputId": "a4c3e7ab-a948-4100-84b9-1b8a84167051"
   },
   "outputs": [
    {
     "name": "stdout",
     "output_type": "stream",
     "text": [
      "Tree:\n",
      "  <FPNode (root)>\n",
      "\n",
      "Routes:\n",
      "None\n",
      "/help/community/png-priv.html:url_path\n",
      "/help/policies/hub.html:url_path\n",
      "None:url_params\n",
      "iso-8859-1:char\n",
      "multipart/alternative:content\n",
      "T:emailLayoutText\n",
      "None:url_params\n",
      "iso-8859-1:char\n",
      "None:url_params\n",
      "None:url_params\n",
      "No of camp. is 10\n"
     ]
    }
   ],
   "source": [
    "param=[1,1,[],1]\n",
    "frequent_items = find_frequent_itemsets(dataset,2,param)\n",
    "print(f\"No of camp. is {len(frequent_items)}\")\n",
    "# for aaa in aa: print(aaa)"
   ]
  },
  {
   "cell_type": "code",
   "execution_count": 14,
   "metadata": {
    "colab_type": "code",
    "id": "tFt4IbhRQuy8",
    "colab": {},
    "executionInfo": {
     "status": "ok",
     "timestamp": 1.593087033888E12,
     "user_tz": -300.0,
     "elapsed": 722.0,
     "user": {
      "displayName": "Muhammad Faheem",
      "photoUrl": "",
      "userId": "16494978489697363550"
     }
    }
   },
   "outputs": [],
   "source": [
    "d={'click3.ebay.com:7': 28, 'pages.ebay.com:7': 25, 'iso-8859-1:3': 12, 'text/html:1': 7, 'en:2': 7, 'T:6': 6, 'www.ncua.gov:7': 5, 'multipart/alternative:1': 5, 'TNTNTNTNNUTNTUTUTNNUTUTUTUTUTUTUTUNTU:5': 2, 'cgi4.ebay.com:7': 2, '/ws1/eBayISAPI.dll:8': 2, '/acounts/memb/avncenter/dll87443/.BayISAPI.dll/hgdas676bsda6gwcv7zfcwfcwf34gfwf23g235f134f3fg3f&bhdfahva68532hbhwseBayISAPI.dllPaymentLanding&ssPageName=hhpayUSf&=userhgads&secure&ssl7r2vbd7d5b.html:8': 2, '/help/policies/privacy-policy.html:8': 2, '/help/policies/user-agreement.html:8': 2, '/community/aboutebay/:8': 2, 'www2.ebay.com:7': 2, '/aw/marketing.shtml:8': 2, '/securitycenter/:8': 2, '/help/policies/hub.html:8': 2, '/sitemap.html:8': 2, '/help/myebay/index.html:8': 2, '/help/community/png-priv.html:8': 2, 'your eBay account could be suspended due updates.:4': 2, 'System maintenance: update your Federal Credit Union:4': 2, '9:0': 1, '10:0': 1, '11:0': 1, '12:0': 1, '13:0': 1, '14:0': 1, '15:0': 1, '16:0': 1, 'youe eBay account could be suspended due Updates.:4': 1, '62.193.219.73:7': 1, '1:0': 1, '62.193.210.146:7': 1, '2:0': 1, '3:0': 1, '4:0': 1, '5:0': 1, 'windows-1251:3': 1, 'eBay - verify your account information:4': 1, '6:0': 1, 'PayPal Flagged Account:4': 1, 'TNNTNNTNNNNTNNTNNNUNNNTNNTNNTNNTNTNTNNT:5': 1, 'www.idhp.com.br:7': 1, '/modules/FCKeditor/upload/Media/abuse:8': 1, 'www.paypal.com:7': 1, '/cgi-bin/webscr:8': 1, '7:0': 1, '***Urgent Fraud Prevention Group Notice***:4': 1, '8:0': 1}"
   ]
  },
  {
   "cell_type": "code",
   "execution_count": 9,
   "metadata": {
    "colab_type": "code",
    "id": "Q-slAcHiprIF",
    "colab": {
     "base_uri": "https://localhost:8080/",
     "height": 34.0
    },
    "executionInfo": {
     "status": "ok",
     "timestamp": 1.593087009674E12,
     "user_tz": -300.0,
     "elapsed": 1218.0,
     "user": {
      "displayName": "Muhammad Faheem",
      "photoUrl": "",
      "userId": "16494978489697363550"
     }
    },
    "outputId": "6811fdee-f9db-40b6-c862-7e8a31f7ca18"
   },
   "outputs": [
    {
     "name": "stdout",
     "output_type": "stream",
     "text": [
      "{0: 6}\n"
     ]
    }
   ],
   "source": [
    "class c:\n",
    "    def __init__(self,a):\n",
    "        self._a={0:a}\n",
    "    @property\n",
    "    def a(self):\n",
    "        return self._a\n",
    "\n",
    "C=c(5)\n",
    "C.a[0]+=1\n",
    "print(C.a)"
   ]
  },
  {
   "cell_type": "code",
   "execution_count": 10,
   "metadata": {
    "colab_type": "code",
    "id": "vKWrmIKJprHm",
    "colab": {},
    "executionInfo": {
     "status": "ok",
     "timestamp": 1.593087009676E12,
     "user_tz": -300.0,
     "elapsed": 1193.0,
     "user": {
      "displayName": "Muhammad Faheem",
      "photoUrl": "",
      "userId": "16494978489697363550"
     }
    }
   },
   "outputs": [],
   "source": [
    "def loadSimpDat():\n",
    "    simpDat = [['r', 'z', 'h', 'j', 'p'],\n",
    "               ['z', 'y', 'x', 'w', 'v', 'u', 't', 's'],\n",
    "               ['z'],\n",
    "               ['r', 'x', 'n', 'o', 's'],\n",
    "               ['y', 'r', 'x', 'z', 'q', 't', 'p'],\n",
    "               ['y', 'z', 'x', 'e', 'q', 's', 't', 'm']]\n",
    "    return simpDat"
   ]
  },
  {
   "cell_type": "code",
   "execution_count": 11,
   "metadata": {
    "colab_type": "code",
    "id": "O_ctVJl9prHx",
    "colab": {},
    "executionInfo": {
     "status": "ok",
     "timestamp": 1.59308700968E12,
     "user_tz": -300.0,
     "elapsed": 1177.0,
     "user": {
      "displayName": "Muhammad Faheem",
      "photoUrl": "",
      "userId": "16494978489697363550"
     }
    }
   },
   "outputs": [],
   "source": [
    "simpDat = loadSimpDat()"
   ]
  }
 ],
 "metadata": {
  "colab": {
   "name": "FPTree_withfly.ipynb",
   "provenance": [],
   "collapsed_sections": []
  },
  "kernelspec": {
   "display_name": "Python 3",
   "language": "python",
   "name": "python3"
  },
  "language_info": {
   "codemirror_mode": {
    "name": "ipython",
    "version": 3
   },
   "file_extension": ".py",
   "mimetype": "text/x-python",
   "name": "python",
   "nbconvert_exporter": "python",
   "pygments_lexer": "ipython3",
   "version": "3.7.6"
  }
 },
 "nbformat": 4,
 "nbformat_minor": 0
}
